{
  "nbformat": 4,
  "nbformat_minor": 0,
  "metadata": {
    "colab": {
      "name": "NLP Course - Week 3 Exercise Question.ipynb",
      "version": "0.3.2",
      "provenance": [],
      "include_colab_link": true
    },
    "kernelspec": {
      "name": "python3",
      "display_name": "Python 3"
    },
    "accelerator": "GPU"
  },
  "cells": [
    {
      "cell_type": "markdown",
      "metadata": {
        "id": "view-in-github",
        "colab_type": "text"
      },
      "source": [
        "<a href=\"https://colab.research.google.com/github/gp1313/Basics/blob/master/NLP_Course_Week_3_Exercise_Question.ipynb\" target=\"_parent\"><img src=\"https://colab.research.google.com/assets/colab-badge.svg\" alt=\"Open In Colab\"/></a>"
      ]
    },
    {
      "cell_type": "code",
      "metadata": {
        "id": "hmA6EzkQJ5jt",
        "colab_type": "code",
        "colab": {}
      },
      "source": [
        "import json\n",
        "import tensorflow as tf\n",
        "import csv\n",
        "import random\n",
        "import numpy as np\n",
        "\n",
        "from tensorflow.keras.preprocessing.text import Tokenizer\n",
        "from tensorflow.keras.preprocessing.sequence import pad_sequences\n",
        "from tensorflow.keras.utils import to_categorical\n",
        "from tensorflow.keras import regularizers\n",
        "\n",
        "\n",
        "embedding_dim = 100\n",
        "max_length = 16\n",
        "trunc_type='post'\n",
        "padding_type='post'\n",
        "oov_tok = \"<OOV>\"\n",
        "training_size=160000#Your dataset size here. Experiment using smaller values (i.e. 16000), but don't forget to train on at least 160000 to see the best effects\n",
        "test_portion=.1\n",
        "\n",
        "corpus = []\n"
      ],
      "execution_count": 0,
      "outputs": []
    },
    {
      "cell_type": "code",
      "metadata": {
        "id": "ETMt3lBBHLzm",
        "colab_type": "code",
        "colab": {
          "base_uri": "https://localhost:8080/",
          "height": 204
        },
        "outputId": "5d98a875-a0c5-4a24-b6cf-63a4e7c6facf"
      },
      "source": [
        "# Note that I cleaned the Stanford dataset to remove LATIN1 encoding to make it easier for Python CSV reader\n",
        "# You can do that yourself with:\n",
        "# iconv -f LATIN1 -t UTF8 training.1600000.processed.noemoticon.csv -o training_cleaned.csv\n",
        "# I then hosted it on my site to make it easier to use in this notebook\n",
        "\n",
        "!wget --no-check-certificate \\\n",
        "    https://storage.googleapis.com/laurencemoroney-blog.appspot.com/training_cleaned.csv \\\n",
        "    -O /tmp/training_cleaned.csv\n",
        "\n",
        "num_sentences = 0"
      ],
      "execution_count": 2,
      "outputs": [
        {
          "output_type": "stream",
          "text": [
            "--2019-08-25 02:44:56--  https://storage.googleapis.com/laurencemoroney-blog.appspot.com/training_cleaned.csv\n",
            "Resolving storage.googleapis.com (storage.googleapis.com)... 172.217.214.128, 2607:f8b0:4001:c08::80\n",
            "Connecting to storage.googleapis.com (storage.googleapis.com)|172.217.214.128|:443... connected.\n",
            "HTTP request sent, awaiting response... 200 OK\n",
            "Length: 238942690 (228M) [application/octet-stream]\n",
            "Saving to: ‘/tmp/training_cleaned.csv’\n",
            "\n",
            "/tmp/training_clean 100%[===================>] 227.87M   126MB/s    in 1.8s    \n",
            "\n",
            "2019-08-25 02:44:58 (126 MB/s) - ‘/tmp/training_cleaned.csv’ saved [238942690/238942690]\n",
            "\n"
          ],
          "name": "stdout"
        }
      ]
    },
    {
      "cell_type": "code",
      "metadata": {
        "id": "bM0l_dORKqE0",
        "colab_type": "code",
        "colab": {}
      },
      "source": [
        "\n",
        "with open(\"/tmp/training_cleaned.csv\") as csvfile:\n",
        "    reader = csv.reader(csvfile, delimiter=',')\n",
        "    for row in reader:\n",
        "      # Your Code here. Create list items where the first item is the text, found in row[5], and the second is the label. Note that the label is a '0' or a '4' in the text. When it's the former, make\n",
        "      # your label to be 0, otherwise 1. Keep a count of the number of sentences in num_sentences\n",
        "      label = 0 if row[0] == '0' else 1\n",
        "      list_item=[row[5], label]\n",
        "      # YOUR CODE HERE\n",
        "      num_sentences = num_sentences + 1\n",
        "      corpus.append(list_item)\n",
        "\n",
        "\n"
      ],
      "execution_count": 0,
      "outputs": []
    },
    {
      "cell_type": "code",
      "metadata": {
        "id": "3kxblBUjEUX-",
        "colab_type": "code",
        "outputId": "2dcfdf85-f377-4809-fc24-3023487d2a6a",
        "colab": {
          "base_uri": "https://localhost:8080/",
          "height": 68
        }
      },
      "source": [
        "print(num_sentences)\n",
        "print(len(corpus))\n",
        "print(corpus[1])\n",
        "\n",
        "# Expected Output:\n",
        "# 1600000\n",
        "# 1600000\n",
        "# [\"is upset that he can't update his Facebook by texting it... and might cry as a result  School today also. Blah!\", 0]"
      ],
      "execution_count": 4,
      "outputs": [
        {
          "output_type": "stream",
          "text": [
            "1600000\n",
            "1600000\n",
            "[\"is upset that he can't update his Facebook by texting it... and might cry as a result  School today also. Blah!\", 0]\n"
          ],
          "name": "stdout"
        }
      ]
    },
    {
      "cell_type": "code",
      "metadata": {
        "id": "ohOGz24lsNAD",
        "colab_type": "code",
        "colab": {}
      },
      "source": [
        "sentences=[]\n",
        "labels=[]\n",
        "random.shuffle(corpus)\n",
        "for x in range(training_size):\n",
        "    sentences.append(corpus[x][0])\n",
        "    labels.append(corpus[x][1])\n",
        "\n",
        "\n",
        "tokenizer = Tokenizer()\n",
        "tokenizer.fit_on_texts(sentences)\n",
        "\n",
        "word_index = tokenizer.word_index\n",
        "vocab_size=len(word_index)\n",
        "\n",
        "sequences = tokenizer.texts_to_sequences(sentences)\n",
        "padded = pad_sequences(sequences, maxlen=max_length, padding=trunc_type)\n",
        "\n",
        "split = int(test_portion * training_size)\n",
        "\n",
        "test_sequences = padded[:split]\n",
        "training_sequences = padded[split:]\n",
        "test_labels = labels[:split]\n",
        "training_labels = labels[split:]"
      ],
      "execution_count": 0,
      "outputs": []
    },
    {
      "cell_type": "code",
      "metadata": {
        "id": "gIrtRem1En3N",
        "colab_type": "code",
        "outputId": "33287558-78fa-447a-da6b-8585d801bf83",
        "colab": {
          "base_uri": "https://localhost:8080/",
          "height": 51
        }
      },
      "source": [
        "print(vocab_size)\n",
        "print(word_index['i'])\n",
        "# Expected Output\n",
        "# 138858\n",
        "# 1"
      ],
      "execution_count": 6,
      "outputs": [
        {
          "output_type": "stream",
          "text": [
            "138559\n",
            "1\n"
          ],
          "name": "stdout"
        }
      ]
    },
    {
      "cell_type": "code",
      "metadata": {
        "id": "C1zdgJkusRh0",
        "colab_type": "code",
        "outputId": "b4bed594-137f-442e-8578-37110280a0e0",
        "colab": {
          "base_uri": "https://localhost:8080/",
          "height": 204
        }
      },
      "source": [
        "# Note this is the 100 dimension version of GloVe from Stanford\n",
        "# I unzipped and hosted it on my site to make this notebook easier\n",
        "!wget --no-check-certificate \\\n",
        "    https://storage.googleapis.com/laurencemoroney-blog.appspot.com/glove.6B.100d.txt \\\n",
        "    -O /tmp/glove.6B.100d.txt\n",
        "embeddings_index = {};\n",
        "with open('/tmp/glove.6B.100d.txt') as f:\n",
        "    for line in f:\n",
        "        values = line.split();\n",
        "        word = values[0];\n",
        "        coefs = np.asarray(values[1:], dtype='float32');\n",
        "        embeddings_index[word] = coefs;\n",
        "\n",
        "embeddings_matrix = np.zeros((vocab_size+1, embedding_dim));\n",
        "for word, i in word_index.items():\n",
        "    embedding_vector = embeddings_index.get(word);\n",
        "    if embedding_vector is not None:\n",
        "        embeddings_matrix[i] = embedding_vector;"
      ],
      "execution_count": 7,
      "outputs": [
        {
          "output_type": "stream",
          "text": [
            "--2019-08-25 02:45:12--  https://storage.googleapis.com/laurencemoroney-blog.appspot.com/glove.6B.100d.txt\n",
            "Resolving storage.googleapis.com (storage.googleapis.com)... 172.217.214.128, 2607:f8b0:4001:c05::80\n",
            "Connecting to storage.googleapis.com (storage.googleapis.com)|172.217.214.128|:443... connected.\n",
            "HTTP request sent, awaiting response... 200 OK\n",
            "Length: 347116733 (331M) [text/plain]\n",
            "Saving to: ‘/tmp/glove.6B.100d.txt’\n",
            "\n",
            "/tmp/glove.6B.100d. 100%[===================>] 331.04M   130MB/s    in 2.6s    \n",
            "\n",
            "2019-08-25 02:45:14 (130 MB/s) - ‘/tmp/glove.6B.100d.txt’ saved [347116733/347116733]\n",
            "\n"
          ],
          "name": "stdout"
        }
      ]
    },
    {
      "cell_type": "code",
      "metadata": {
        "id": "71NLk_lpFLNt",
        "colab_type": "code",
        "outputId": "9f266ec1-e43a-41f9-fbf7-298e48db2fd2",
        "colab": {
          "base_uri": "https://localhost:8080/",
          "height": 34
        }
      },
      "source": [
        "print(len(embeddings_matrix))\n",
        "# Expected Output\n",
        "# 138859"
      ],
      "execution_count": 8,
      "outputs": [
        {
          "output_type": "stream",
          "text": [
            "138560\n"
          ],
          "name": "stdout"
        }
      ]
    },
    {
      "cell_type": "code",
      "metadata": {
        "colab_type": "code",
        "id": "iKKvbuEBOGFz",
        "colab": {
          "base_uri": "https://localhost:8080/",
          "height": 1000
        },
        "outputId": "11b7de50-d082-48ff-fc56-1c418edc1432"
      },
      "source": [
        "model = tf.keras.Sequential([\n",
        "    tf.keras.layers.Embedding(vocab_size+1, embedding_dim, input_length=max_length, weights=[embeddings_matrix], trainable=False),\n",
        "    # YOUR CODE HERE - experiment with combining different types, such as convolutions and LSTMs\n",
        "    tf.keras.layers.Dropout(0.2),\n",
        "    tf.keras.layers.Conv1D(64, 5, activation='relu'),\n",
        "    tf.keras.layers.MaxPooling1D(pool_size=4),\n",
        "    tf.keras.layers.LSTM(64),\n",
        "    tf.keras.layers.Dense(1, activation='sigmoid')\n",
        "])\n",
        "optim_inst = tf.keras.optimizers.RMSprop(lr=0.0001)\n",
        "model.compile(optim_inst, loss='binary_crossentropy', metrics=['accuracy'])\n",
        "model.summary()\n",
        "\n",
        "num_epochs = 50\n",
        "history = model.fit(training_sequences, training_labels, epochs=num_epochs, validation_data=(test_sequences, test_labels), verbose=2)\n",
        "\n",
        "print(\"Training Complete\")\n"
      ],
      "execution_count": 9,
      "outputs": [
        {
          "output_type": "stream",
          "text": [
            "WARNING: Logging before flag parsing goes to stderr.\n",
            "W0825 02:45:24.189457 140319085168512 deprecation.py:506] From /usr/local/lib/python3.6/dist-packages/tensorflow/python/keras/initializers.py:119: calling RandomUniform.__init__ (from tensorflow.python.ops.init_ops) with dtype is deprecated and will be removed in a future version.\n",
            "Instructions for updating:\n",
            "Call initializer instance with the dtype argument instead of passing it to the constructor\n",
            "W0825 02:45:24.192592 140319085168512 deprecation.py:506] From /usr/local/lib/python3.6/dist-packages/tensorflow/python/ops/init_ops.py:1251: calling VarianceScaling.__init__ (from tensorflow.python.ops.init_ops) with dtype is deprecated and will be removed in a future version.\n",
            "Instructions for updating:\n",
            "Call initializer instance with the dtype argument instead of passing it to the constructor\n",
            "W0825 02:45:27.262916 140319085168512 deprecation.py:323] From /usr/local/lib/python3.6/dist-packages/tensorflow/python/ops/nn_impl.py:180: add_dispatch_support.<locals>.wrapper (from tensorflow.python.ops.array_ops) is deprecated and will be removed in a future version.\n",
            "Instructions for updating:\n",
            "Use tf.where in 2.0, which has the same broadcast rule as np.where\n"
          ],
          "name": "stderr"
        },
        {
          "output_type": "stream",
          "text": [
            "Model: \"sequential\"\n",
            "_________________________________________________________________\n",
            "Layer (type)                 Output Shape              Param #   \n",
            "=================================================================\n",
            "embedding (Embedding)        (None, 16, 100)           13856000  \n",
            "_________________________________________________________________\n",
            "dropout (Dropout)            (None, 16, 100)           0         \n",
            "_________________________________________________________________\n",
            "conv1d (Conv1D)              (None, 12, 64)            32064     \n",
            "_________________________________________________________________\n",
            "max_pooling1d (MaxPooling1D) (None, 3, 64)             0         \n",
            "_________________________________________________________________\n",
            "lstm (LSTM)                  (None, 64)                33024     \n",
            "_________________________________________________________________\n",
            "dense (Dense)                (None, 1)                 65        \n",
            "=================================================================\n",
            "Total params: 13,921,153\n",
            "Trainable params: 65,153\n",
            "Non-trainable params: 13,856,000\n",
            "_________________________________________________________________\n",
            "Train on 144000 samples, validate on 16000 samples\n",
            "Epoch 1/50\n",
            "144000/144000 - 41s - loss: 0.6134 - acc: 0.6639 - val_loss: 0.5712 - val_acc: 0.6984\n",
            "Epoch 2/50\n",
            "144000/144000 - 38s - loss: 0.5691 - acc: 0.7011 - val_loss: 0.5464 - val_acc: 0.7176\n",
            "Epoch 3/50\n",
            "144000/144000 - 38s - loss: 0.5515 - acc: 0.7136 - val_loss: 0.5397 - val_acc: 0.7236\n",
            "Epoch 4/50\n",
            "144000/144000 - 37s - loss: 0.5384 - acc: 0.7250 - val_loss: 0.5313 - val_acc: 0.7280\n",
            "Epoch 5/50\n",
            "144000/144000 - 38s - loss: 0.5288 - acc: 0.7335 - val_loss: 0.5213 - val_acc: 0.7371\n",
            "Epoch 6/50\n",
            "144000/144000 - 37s - loss: 0.5206 - acc: 0.7395 - val_loss: 0.5279 - val_acc: 0.7357\n",
            "Epoch 7/50\n",
            "144000/144000 - 37s - loss: 0.5154 - acc: 0.7435 - val_loss: 0.5140 - val_acc: 0.7458\n",
            "Epoch 8/50\n",
            "144000/144000 - 37s - loss: 0.5092 - acc: 0.7459 - val_loss: 0.5188 - val_acc: 0.7423\n",
            "Epoch 9/50\n",
            "144000/144000 - 37s - loss: 0.5050 - acc: 0.7496 - val_loss: 0.5116 - val_acc: 0.7479\n",
            "Epoch 10/50\n",
            "144000/144000 - 37s - loss: 0.5015 - acc: 0.7535 - val_loss: 0.5077 - val_acc: 0.7498\n",
            "Epoch 11/50\n",
            "144000/144000 - 37s - loss: 0.4961 - acc: 0.7556 - val_loss: 0.5061 - val_acc: 0.7521\n",
            "Epoch 12/50\n",
            "144000/144000 - 37s - loss: 0.4938 - acc: 0.7569 - val_loss: 0.5049 - val_acc: 0.7509\n",
            "Epoch 13/50\n",
            "144000/144000 - 37s - loss: 0.4896 - acc: 0.7601 - val_loss: 0.5021 - val_acc: 0.7532\n",
            "Epoch 14/50\n",
            "144000/144000 - 37s - loss: 0.4868 - acc: 0.7620 - val_loss: 0.5013 - val_acc: 0.7527\n",
            "Epoch 15/50\n",
            "144000/144000 - 37s - loss: 0.4849 - acc: 0.7635 - val_loss: 0.4996 - val_acc: 0.7549\n",
            "Epoch 16/50\n",
            "144000/144000 - 37s - loss: 0.4811 - acc: 0.7664 - val_loss: 0.5030 - val_acc: 0.7541\n",
            "Epoch 17/50\n",
            "144000/144000 - 37s - loss: 0.4800 - acc: 0.7665 - val_loss: 0.4994 - val_acc: 0.7559\n",
            "Epoch 18/50\n",
            "144000/144000 - 37s - loss: 0.4772 - acc: 0.7679 - val_loss: 0.5116 - val_acc: 0.7509\n",
            "Epoch 19/50\n",
            "144000/144000 - 37s - loss: 0.4756 - acc: 0.7691 - val_loss: 0.4993 - val_acc: 0.7551\n",
            "Epoch 20/50\n",
            "144000/144000 - 37s - loss: 0.4740 - acc: 0.7710 - val_loss: 0.5000 - val_acc: 0.7576\n",
            "Epoch 21/50\n",
            "144000/144000 - 37s - loss: 0.4716 - acc: 0.7727 - val_loss: 0.5051 - val_acc: 0.7510\n",
            "Epoch 22/50\n",
            "144000/144000 - 37s - loss: 0.4699 - acc: 0.7743 - val_loss: 0.4978 - val_acc: 0.7547\n",
            "Epoch 23/50\n",
            "144000/144000 - 37s - loss: 0.4670 - acc: 0.7753 - val_loss: 0.4984 - val_acc: 0.7581\n",
            "Epoch 24/50\n",
            "144000/144000 - 37s - loss: 0.4674 - acc: 0.7748 - val_loss: 0.4974 - val_acc: 0.7572\n",
            "Epoch 25/50\n",
            "144000/144000 - 37s - loss: 0.4644 - acc: 0.7776 - val_loss: 0.4966 - val_acc: 0.7559\n",
            "Epoch 26/50\n",
            "144000/144000 - 37s - loss: 0.4641 - acc: 0.7762 - val_loss: 0.5003 - val_acc: 0.7566\n",
            "Epoch 27/50\n",
            "144000/144000 - 37s - loss: 0.4616 - acc: 0.7798 - val_loss: 0.5034 - val_acc: 0.7559\n",
            "Epoch 28/50\n",
            "144000/144000 - 37s - loss: 0.4612 - acc: 0.7797 - val_loss: 0.5020 - val_acc: 0.7567\n",
            "Epoch 29/50\n",
            "144000/144000 - 37s - loss: 0.4600 - acc: 0.7799 - val_loss: 0.4997 - val_acc: 0.7562\n",
            "Epoch 30/50\n",
            "144000/144000 - 37s - loss: 0.4583 - acc: 0.7806 - val_loss: 0.4999 - val_acc: 0.7566\n",
            "Epoch 31/50\n",
            "144000/144000 - 37s - loss: 0.4576 - acc: 0.7811 - val_loss: 0.4977 - val_acc: 0.7559\n",
            "Epoch 32/50\n",
            "144000/144000 - 37s - loss: 0.4555 - acc: 0.7819 - val_loss: 0.5016 - val_acc: 0.7552\n",
            "Epoch 33/50\n",
            "144000/144000 - 37s - loss: 0.4554 - acc: 0.7827 - val_loss: 0.4997 - val_acc: 0.7574\n",
            "Epoch 34/50\n",
            "144000/144000 - 37s - loss: 0.4529 - acc: 0.7848 - val_loss: 0.4984 - val_acc: 0.7577\n",
            "Epoch 35/50\n",
            "144000/144000 - 37s - loss: 0.4530 - acc: 0.7851 - val_loss: 0.5003 - val_acc: 0.7581\n",
            "Epoch 36/50\n",
            "144000/144000 - 37s - loss: 0.4518 - acc: 0.7848 - val_loss: 0.4972 - val_acc: 0.7588\n",
            "Epoch 37/50\n",
            "144000/144000 - 37s - loss: 0.4510 - acc: 0.7855 - val_loss: 0.4952 - val_acc: 0.7602\n",
            "Epoch 38/50\n",
            "144000/144000 - 37s - loss: 0.4502 - acc: 0.7859 - val_loss: 0.5009 - val_acc: 0.7576\n",
            "Epoch 39/50\n",
            "144000/144000 - 37s - loss: 0.4491 - acc: 0.7876 - val_loss: 0.4994 - val_acc: 0.7607\n",
            "Epoch 40/50\n",
            "144000/144000 - 37s - loss: 0.4482 - acc: 0.7879 - val_loss: 0.4987 - val_acc: 0.7562\n",
            "Epoch 41/50\n",
            "144000/144000 - 37s - loss: 0.4476 - acc: 0.7885 - val_loss: 0.4993 - val_acc: 0.7571\n",
            "Epoch 42/50\n",
            "144000/144000 - 37s - loss: 0.4469 - acc: 0.7889 - val_loss: 0.5000 - val_acc: 0.7594\n",
            "Epoch 43/50\n",
            "144000/144000 - 37s - loss: 0.4455 - acc: 0.7880 - val_loss: 0.4968 - val_acc: 0.7596\n",
            "Epoch 44/50\n",
            "144000/144000 - 37s - loss: 0.4436 - acc: 0.7905 - val_loss: 0.5001 - val_acc: 0.7580\n",
            "Epoch 45/50\n",
            "144000/144000 - 37s - loss: 0.4441 - acc: 0.7903 - val_loss: 0.5110 - val_acc: 0.7526\n",
            "Epoch 46/50\n",
            "144000/144000 - 37s - loss: 0.4434 - acc: 0.7900 - val_loss: 0.5049 - val_acc: 0.7589\n",
            "Epoch 47/50\n",
            "144000/144000 - 37s - loss: 0.4421 - acc: 0.7913 - val_loss: 0.4960 - val_acc: 0.7584\n",
            "Epoch 48/50\n",
            "144000/144000 - 37s - loss: 0.4414 - acc: 0.7912 - val_loss: 0.4985 - val_acc: 0.7579\n",
            "Epoch 49/50\n",
            "144000/144000 - 37s - loss: 0.4411 - acc: 0.7915 - val_loss: 0.5006 - val_acc: 0.7582\n",
            "Epoch 50/50\n",
            "144000/144000 - 37s - loss: 0.4402 - acc: 0.7924 - val_loss: 0.4984 - val_acc: 0.7598\n",
            "Training Complete\n"
          ],
          "name": "stdout"
        }
      ]
    },
    {
      "cell_type": "code",
      "metadata": {
        "id": "qxju4ItJKO8F",
        "colab_type": "code",
        "colab": {
          "base_uri": "https://localhost:8080/",
          "height": 607
        },
        "outputId": "d260bfa6-defb-4ad8-eedc-e6126693770c"
      },
      "source": [
        "import matplotlib.image  as mpimg\n",
        "import matplotlib.pyplot as plt\n",
        "\n",
        "#-----------------------------------------------------------\n",
        "# Retrieve a list of list results on training and test data\n",
        "# sets for each training epoch\n",
        "#-----------------------------------------------------------\n",
        "acc=history.history['acc']\n",
        "val_acc=history.history['val_acc']\n",
        "loss=history.history['loss']\n",
        "val_loss=history.history['val_loss']\n",
        "\n",
        "epochs=range(len(acc)) # Get number of epochs\n",
        "\n",
        "#------------------------------------------------\n",
        "# Plot training and validation accuracy per epoch\n",
        "#------------------------------------------------\n",
        "plt.plot(epochs, acc, 'r')\n",
        "plt.plot(epochs, val_acc, 'b')\n",
        "plt.title('Training and validation accuracy')\n",
        "plt.xlabel(\"Epochs\")\n",
        "plt.ylabel(\"Accuracy\")\n",
        "plt.legend([\"Accuracy\", \"Validation Accuracy\"])\n",
        "\n",
        "plt.figure()\n",
        "\n",
        "#------------------------------------------------\n",
        "# Plot training and validation loss per epoch\n",
        "#------------------------------------------------\n",
        "plt.plot(epochs, loss, 'r')\n",
        "plt.plot(epochs, val_loss, 'b')\n",
        "plt.title('Training and validation loss')\n",
        "plt.xlabel(\"Epochs\")\n",
        "plt.ylabel(\"Loss\")\n",
        "plt.legend([\"Loss\", \"Validation Loss\"])\n",
        "\n",
        "plt.figure()\n",
        "\n",
        "\n",
        "# Expected Output\n",
        "# A chart where the validation loss does not increase sharply!"
      ],
      "execution_count": 10,
      "outputs": [
        {
          "output_type": "execute_result",
          "data": {
            "text/plain": [
              "<Figure size 432x288 with 0 Axes>"
            ]
          },
          "metadata": {
            "tags": []
          },
          "execution_count": 10
        },
        {
          "output_type": "display_data",
          "data": {
            "image/png": "[encoded data removed]",
            "text/plain": [
              "<Figure size 432x288 with 1 Axes>"
            ]
          },
          "metadata": {
            "tags": []
          }
        },
        {
          "output_type": "display_data",
          "data": {
            "image/png": "[encoded data removed]",
            "text/plain": [
              "<Figure size 432x288 with 1 Axes>"
            ]
          },
          "metadata": {
            "tags": []
          }
        },
        {
          "output_type": "display_data",
          "data": {
            "text/plain": [
              "<Figure size 432x288 with 0 Axes>"
            ]
          },
          "metadata": {
            "tags": []
          }
        }
      ]
    }
  ]
}