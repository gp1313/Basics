{
 "cells": [
  {
   "cell_type": "markdown",
   "metadata": {},
   "source": [
    "# Imports "
   ]
  },
  {
   "cell_type": "code",
   "execution_count": 1,
   "metadata": {},
   "outputs": [],
   "source": [
    "import matplotlib.pyplot as plt\n",
    "%matplotlib inline"
   ]
  },
  {
   "cell_type": "code",
   "execution_count": 2,
   "metadata": {},
   "outputs": [],
   "source": [
    "import sys, os\n",
    "import numpy as np\n",
    "import pandas as pd\n",
    "import h5py, pickle\n",
    "import math"
   ]
  },
  {
   "cell_type": "markdown",
   "metadata": {},
   "source": [
    "# Load dataset"
   ]
  },
  {
   "cell_type": "code",
   "execution_count": 3,
   "metadata": {},
   "outputs": [],
   "source": [
    "def load_dataset(data_path = '.'):\n",
    "    train_dataset = h5py.File(data_path + '/train_catvnoncat.h5') #'./Data/train_catvnoncat.h5')\n",
    "    train_set_x_orig = np.array(train_dataset[\"train_set_x\"][:])\n",
    "    train_set_y_orig = np.array(train_dataset[\"train_set_y\"][:])\n",
    "    \n",
    "    test_dataset = h5py.File(data_path + '/test_catvnoncat.h5')\n",
    "    test_set_x_orig = np.array(test_dataset[\"test_set_x\"][:])\n",
    "    test_set_y_orig = np.array(test_dataset[\"test_set_y\"][:])\n",
    "    \n",
    "    classes = np.array(test_dataset[\"list_classes\"][:])\n",
    "    \n",
    "    train_set_y_orig = train_set_y_orig.reshape((1, -1))\n",
    "    test_set_y_orig = test_set_y_orig.reshape((1, -1))\n",
    "    \n",
    "    return train_set_x_orig, train_set_y_orig, test_set_x_orig, test_set_y_orig, classes"
   ]
  },
  {
   "cell_type": "code",
   "execution_count": 4,
   "metadata": {},
   "outputs": [],
   "source": [
    "data_path = './Data'\n",
    "train_set_x_orig, train_set_y_orig, test_set_x_orig, test_set_y_orig, classes = load_dataset(data_path)"
   ]
  },
  {
   "cell_type": "code",
   "execution_count": 5,
   "metadata": {},
   "outputs": [
    {
     "data": {
      "text/plain": [
       "((209, 64, 64, 3),\n",
       " (1, 209),\n",
       " (50, 64, 64, 3),\n",
       " (1, 50),\n",
       " array([b'non-cat', b'cat'], dtype='|S7'))"
      ]
     },
     "execution_count": 5,
     "metadata": {},
     "output_type": "execute_result"
    }
   ],
   "source": [
    "train_set_x_orig.shape, train_set_y_orig.shape, test_set_x_orig.shape, test_set_y_orig.shape, classes"
   ]
  },
  {
   "cell_type": "code",
   "execution_count": 6,
   "metadata": {},
   "outputs": [],
   "source": [
    "train_set_x = train_set_x_orig.reshape((train_set_x_orig.shape[0], -1))\n",
    "test_set_x = test_set_x_orig.reshape((test_set_x_orig.shape[0], -1))"
   ]
  },
  {
   "cell_type": "code",
   "execution_count": 7,
   "metadata": {},
   "outputs": [
    {
     "data": {
      "text/plain": [
       "((209, 12288), (50, 12288))"
      ]
     },
     "execution_count": 7,
     "metadata": {},
     "output_type": "execute_result"
    }
   ],
   "source": [
    "train_set_x.shape, test_set_x.shape"
   ]
  },
  {
   "cell_type": "markdown",
   "metadata": {},
   "source": [
    "# Display"
   ]
  },
  {
   "cell_type": "code",
   "execution_count": 8,
   "metadata": {},
   "outputs": [
    {
     "data": {
      "text/plain": [
       "1"
      ]
     },
     "execution_count": 8,
     "metadata": {},
     "output_type": "execute_result"
    },
    {
     "data": {
      "image/png": "[encoded data removed]",
      "text/plain": [
       "<Figure size 432x288 with 1 Axes>"
      ]
     },
     "metadata": {
      "needs_background": "light"
     },
     "output_type": "display_data"
    }
   ],
   "source": [
    "index = 13\n",
    "plt.imshow(train_set_x_orig[index]);train_set_y_orig[0][index]"
   ]
  },
  {
   "cell_type": "code",
   "execution_count": 9,
   "metadata": {},
   "outputs": [],
   "source": [
    "def sigmoid(x):\n",
    "    return 1.0 / (1.0 + np.exp(-x))"
   ]
  },
  {
   "cell_type": "code",
   "execution_count": 10,
   "metadata": {},
   "outputs": [
    {
     "data": {
      "text/plain": [
       "[<matplotlib.lines.Line2D at 0x7f2098609ef0>]"
      ]
     },
     "execution_count": 10,
     "metadata": {},
     "output_type": "execute_result"
    },
    {
     "data": {
      "image/png": "[encoded data removed]",
      "text/plain": [
       "<Figure size 432x288 with 1 Axes>"
      ]
     },
     "metadata": {
      "needs_background": "light"
     },
     "output_type": "display_data"
    }
   ],
   "source": [
    "x = np.array(range(-10, 10))\n",
    "plt.plot(x, sigmoid(x))"
   ]
  },
  {
   "cell_type": "code",
   "execution_count": 11,
   "metadata": {},
   "outputs": [
    {
     "data": {
      "text/plain": [
       "array([4.53978687e-05, 1.23394576e-04, 3.35350130e-04, 9.11051194e-04,\n",
       "       2.47262316e-03, 6.69285092e-03, 1.79862100e-02, 4.74258732e-02,\n",
       "       1.19202922e-01, 2.68941421e-01, 5.00000000e-01, 7.31058579e-01,\n",
       "       8.80797078e-01, 9.52574127e-01, 9.82013790e-01, 9.93307149e-01,\n",
       "       9.97527377e-01, 9.99088949e-01, 9.99664650e-01, 9.99876605e-01])"
      ]
     },
     "execution_count": 11,
     "metadata": {},
     "output_type": "execute_result"
    }
   ],
   "source": [
    "sigmoid(x)"
   ]
  },
  {
   "cell_type": "code",
   "execution_count": 12,
   "metadata": {},
   "outputs": [
    {
     "data": {
      "text/plain": [
       "array([[ 17,  31,  56, ...,   0,   0,   0],\n",
       "       [196, 192, 190, ...,  82,  80,  81],\n",
       "       [ 82,  71,  68, ..., 138, 141, 142],\n",
       "       ...,\n",
       "       [143, 155, 165, ...,  85, 107, 149],\n",
       "       [ 22,  24,  23, ...,   4,   5,   0],\n",
       "       [  8,  28,  53, ...,   0,   0,   0]], dtype=uint8)"
      ]
     },
     "execution_count": 12,
     "metadata": {},
     "output_type": "execute_result"
    }
   ],
   "source": [
    "train_set_x"
   ]
  },
  {
   "cell_type": "code",
   "execution_count": 13,
   "metadata": {},
   "outputs": [],
   "source": [
    "train_set_x = train_set_x / 255.0\n",
    "test_set_x = test_set_x / 255.0"
   ]
  },
  {
   "cell_type": "code",
   "execution_count": 14,
   "metadata": {},
   "outputs": [
    {
     "data": {
      "text/plain": [
       "array([[0.06666667, 0.12156863, 0.21960784, ..., 0.        , 0.        ,\n",
       "        0.        ],\n",
       "       [0.76862745, 0.75294118, 0.74509804, ..., 0.32156863, 0.31372549,\n",
       "        0.31764706],\n",
       "       [0.32156863, 0.27843137, 0.26666667, ..., 0.54117647, 0.55294118,\n",
       "        0.55686275],\n",
       "       ...,\n",
       "       [0.56078431, 0.60784314, 0.64705882, ..., 0.33333333, 0.41960784,\n",
       "        0.58431373],\n",
       "       [0.08627451, 0.09411765, 0.09019608, ..., 0.01568627, 0.01960784,\n",
       "        0.        ],\n",
       "       [0.03137255, 0.10980392, 0.20784314, ..., 0.        , 0.        ,\n",
       "        0.        ]])"
      ]
     },
     "execution_count": 14,
     "metadata": {},
     "output_type": "execute_result"
    }
   ],
   "source": [
    "train_set_x"
   ]
  },
  {
   "cell_type": "code",
   "execution_count": 15,
   "metadata": {},
   "outputs": [],
   "source": [
    "m = train_set_x.shape[0]\n",
    "n = train_set_x.shape[1]"
   ]
  },
  {
   "cell_type": "code",
   "execution_count": 16,
   "metadata": {
    "code_folding": []
   },
   "outputs": [],
   "source": [
    "class LRClassifier:\n",
    "    def __init__(self, n, c):\n",
    "        self.w = np.random.rand(n, c) / math.sqrt(n)\n",
    "        self.n = n\n",
    "        self.c = c\n",
    "        \n",
    "    def forward_prop(self, x):\n",
    "        m ,n = x.shape\n",
    "        if n != self.n:\n",
    "            x = x.T\n",
    "        m ,n = x.shape\n",
    "        if n != self.n:\n",
    "            print('shape mismatch!! m : {m} and n is {n} after transpose')\n",
    "            return None\n",
    "        z = np.matmul(x, self.w)\n",
    "        #print(z)\n",
    "        a = sigmoid(z)\n",
    "        a[a == 1.0] = 0.9999\n",
    "        return a\n",
    "    \n",
    "    def backprop(self, x, y, a, lr=1e-2):\n",
    "        dw = (a - y).T\n",
    "        #print(dw.shape, x.shape)\n",
    "        dw1 = dw@x\n",
    "        dw1 = dw1.T / x.shape[0]\n",
    "        #print((dw1*lr))\n",
    "        self.w = self.w - (dw1*lr)"
   ]
  },
  {
   "cell_type": "code",
   "execution_count": 17,
   "metadata": {},
   "outputs": [],
   "source": [
    "lr_classifier = LRClassifier(n , 1)"
   ]
  },
  {
   "cell_type": "code",
   "execution_count": 18,
   "metadata": {},
   "outputs": [],
   "source": [
    "a = lr_classifier.forward_prop(train_set_x)"
   ]
  },
  {
   "cell_type": "code",
   "execution_count": 19,
   "metadata": {},
   "outputs": [
    {
     "data": {
      "text/plain": [
       "((209, 1), array([208.91596456]))"
      ]
     },
     "execution_count": 19,
     "metadata": {},
     "output_type": "execute_result"
    }
   ],
   "source": [
    "a.shape, sum(a)"
   ]
  },
  {
   "cell_type": "code",
   "execution_count": 20,
   "metadata": {},
   "outputs": [
    {
     "data": {
      "text/plain": [
       "((1, 209), (209, 1))"
      ]
     },
     "execution_count": 20,
     "metadata": {},
     "output_type": "execute_result"
    }
   ],
   "source": [
    "train_set_y_orig.shape, a.shape"
   ]
  },
  {
   "cell_type": "code",
   "execution_count": 21,
   "metadata": {},
   "outputs": [],
   "source": [
    "def accuracy(y ,a):\n",
    "    thr_a = a.copy()\n",
    "    thr_a[thr_a >= 0.5] = 1.0\n",
    "    thr_a[thr_a < 0.5] = 0.0\n",
    "    \n",
    "    crr = sum(y == thr_a)\n",
    "    #print(sum(thr_a))\n",
    "    return crr / y.shape[0]    "
   ]
  },
  {
   "cell_type": "code",
   "execution_count": 22,
   "metadata": {},
   "outputs": [],
   "source": [
    "dumy_y = np.array([[1.0, 1.0, 0.0, 1.0]]).T"
   ]
  },
  {
   "cell_type": "code",
   "execution_count": 23,
   "metadata": {},
   "outputs": [],
   "source": [
    "dumy_a = np.array([[0.0, 0.0, 1.0, 1.0]]).T"
   ]
  },
  {
   "cell_type": "code",
   "execution_count": 24,
   "metadata": {},
   "outputs": [
    {
     "data": {
      "text/plain": [
       "array([0.25])"
      ]
     },
     "execution_count": 24,
     "metadata": {},
     "output_type": "execute_result"
    }
   ],
   "source": [
    "accuracy(dumy_y, dumy_a)"
   ]
  },
  {
   "cell_type": "code",
   "execution_count": 25,
   "metadata": {},
   "outputs": [
    {
     "data": {
      "text/plain": [
       "array([0.34449761])"
      ]
     },
     "execution_count": 25,
     "metadata": {},
     "output_type": "execute_result"
    }
   ],
   "source": [
    "accuracy(train_set_y_orig.T, np.ones((train_set_y_orig.shape[1], 1)))"
   ]
  },
  {
   "cell_type": "code",
   "execution_count": 26,
   "metadata": {},
   "outputs": [
    {
     "data": {
      "text/plain": [
       "array([0.34449761])"
      ]
     },
     "execution_count": 26,
     "metadata": {},
     "output_type": "execute_result"
    }
   ],
   "source": [
    "accuracy(train_set_y_orig.T, a)"
   ]
  },
  {
   "cell_type": "code",
   "execution_count": 27,
   "metadata": {},
   "outputs": [],
   "source": [
    "def lr_loss_fn(y, a):\n",
    "    t1 = np.log(a)\n",
    "    t2 = np.log(1 - a)\n",
    "    t = y.T@t1\n",
    "    t = t + ((1 - y).T@t2)\n",
    "    return -t / y.shape[0]"
   ]
  },
  {
   "cell_type": "code",
   "execution_count": 28,
   "metadata": {},
   "outputs": [
    {
     "data": {
      "text/plain": [
       "array([[14.19492195]])"
      ]
     },
     "execution_count": 28,
     "metadata": {},
     "output_type": "execute_result"
    }
   ],
   "source": [
    "lr_loss_fn(train_set_y_orig.T, a)"
   ]
  },
  {
   "cell_type": "code",
   "execution_count": 29,
   "metadata": {},
   "outputs": [],
   "source": [
    "def eval_model(y, a):\n",
    "    print('accuracy ', accuracy(y, a))\n",
    "    print('loss value ', lr_loss_fn(y, a)[0])"
   ]
  },
  {
   "cell_type": "code",
   "execution_count": 30,
   "metadata": {},
   "outputs": [
    {
     "name": "stdout",
     "output_type": "stream",
     "text": [
      "accuracy  [0.34449761]\n",
      "loss value  [14.19492195]\n"
     ]
    }
   ],
   "source": [
    "eval_model(train_set_y_orig.T, a)"
   ]
  },
  {
   "cell_type": "code",
   "execution_count": 31,
   "metadata": {},
   "outputs": [],
   "source": [
    "lr_classifier.backprop(train_set_x, train_set_y_orig.T, a)"
   ]
  },
  {
   "cell_type": "code",
   "execution_count": 32,
   "metadata": {},
   "outputs": [
    {
     "name": "stdout",
     "output_type": "stream",
     "text": [
      "accuracy  [0.34449761]\n",
      "loss value  [14.0789843]\n",
      "accuracy  [0.65550239]\n",
      "loss value  [25.22464017]\n",
      "accuracy  [0.65550239]\n",
      "loss value  [17.38337912]\n",
      "accuracy  [0.88038278]\n",
      "loss value  [0.86124482]\n",
      "accuracy  [0.73205742]\n",
      "loss value  [4.60685533]\n",
      "accuracy  [0.65550239]\n",
      "loss value  [22.07571403]\n",
      "accuracy  [0.97607656]\n",
      "loss value  [0.058083]\n",
      "accuracy  [0.99521531]\n",
      "loss value  [0.00867103]\n",
      "accuracy  [1.]\n",
      "loss value  [0.00544667]\n",
      "accuracy  [1.]\n",
      "loss value  [0.00409056]\n"
     ]
    }
   ],
   "source": [
    "lr_classifier = LRClassifier(n , 1)\n",
    "for i in range(1000):\n",
    "    a = lr_classifier.forward_prop(train_set_x)\n",
    "    lr_classifier.backprop(train_set_x, train_set_y_orig.T, a, lr=1e-1)\n",
    "    if i%100 == 0:\n",
    "        eval_model(train_set_y_orig.T, a)"
   ]
  },
  {
   "cell_type": "code",
   "execution_count": 33,
   "metadata": {},
   "outputs": [],
   "source": [
    "def save_model(lr_model, path):\n",
    "    with open(path, 'wb') as f:\n",
    "        pickle.dump(lr_model, f)"
   ]
  },
  {
   "cell_type": "code",
   "execution_count": 34,
   "metadata": {},
   "outputs": [],
   "source": [
    "model_path = './model.pkl'"
   ]
  },
  {
   "cell_type": "code",
   "execution_count": 35,
   "metadata": {},
   "outputs": [],
   "source": [
    "save_model(lr_classifier, model_path)"
   ]
  },
  {
   "cell_type": "code",
   "execution_count": 36,
   "metadata": {},
   "outputs": [],
   "source": [
    "def load_model(path):\n",
    "    with open(path, 'rb') as f:\n",
    "        lr_model = pickle.load(f)\n",
    "    return lr_model"
   ]
  },
  {
   "cell_type": "code",
   "execution_count": 37,
   "metadata": {},
   "outputs": [],
   "source": [
    "lr_model = load_model(model_path)"
   ]
  },
  {
   "cell_type": "code",
   "execution_count": 38,
   "metadata": {},
   "outputs": [],
   "source": [
    "lr_classifier = LRClassifier(n , 1)"
   ]
  },
  {
   "cell_type": "code",
   "execution_count": 39,
   "metadata": {},
   "outputs": [],
   "source": [
    "def train(lr_model, train_set_x, train_set_y_orig, test_set_x, test_set_y_orig):\n",
    "    for i in range(1000):\n",
    "        a = lr_model.forward_prop(train_set_x)\n",
    "        lr_model.backprop(train_set_x, train_set_y_orig.T, a, lr=1e-3)\n",
    "        if i%100 == 0:\n",
    "            a = lr_model.forward_prop(test_set_x)\n",
    "            eval_model(test_set_y_orig.T, a)"
   ]
  },
  {
   "cell_type": "code",
   "execution_count": 43,
   "metadata": {},
   "outputs": [
    {
     "name": "stdout",
     "output_type": "stream",
     "text": [
      "accuracy  [0.74]\n",
      "loss value  [0.62374974]\n",
      "accuracy  [0.74]\n",
      "loss value  [0.625043]\n",
      "accuracy  [0.74]\n",
      "loss value  [0.62639893]\n",
      "accuracy  [0.74]\n",
      "loss value  [0.62781184]\n",
      "accuracy  [0.74]\n",
      "loss value  [0.6292766]\n",
      "accuracy  [0.74]\n",
      "loss value  [0.63078853]\n",
      "accuracy  [0.74]\n",
      "loss value  [0.63234339]\n",
      "accuracy  [0.74]\n",
      "loss value  [0.63393732]\n",
      "accuracy  [0.74]\n",
      "loss value  [0.6355668]\n",
      "accuracy  [0.74]\n",
      "loss value  [0.63722859]\n"
     ]
    }
   ],
   "source": [
    "train(lr_classifier, train_set_x, train_set_y_orig, test_set_x, test_set_y_orig)"
   ]
  },
  {
   "cell_type": "code",
   "execution_count": 44,
   "metadata": {},
   "outputs": [],
   "source": [
    "import pytest"
   ]
  },
  {
   "cell_type": "code",
   "execution_count": 46,
   "metadata": {},
   "outputs": [],
   "source": [
    "#!pip install pytest-cov"
   ]
  },
  {
   "cell_type": "code",
   "execution_count": null,
   "metadata": {},
   "outputs": [],
   "source": []
  }
 ],
 "metadata": {
  "kernelspec": {
   "display_name": "Basics",
   "language": "python",
   "name": "basics"
  },
  "language_info": {
   "codemirror_mode": {
    "name": "ipython",
    "version": 3
   },
   "file_extension": ".py",
   "mimetype": "text/x-python",
   "name": "python",
   "nbconvert_exporter": "python",
   "pygments_lexer": "ipython3",
   "version": "3.6.8"
  }
 },
 "nbformat": 4,
 "nbformat_minor": 2
}
